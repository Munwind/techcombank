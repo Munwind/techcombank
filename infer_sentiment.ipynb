{
 "cells": [
  {
   "cell_type": "code",
   "execution_count": 10,
   "id": "8f26b618",
   "metadata": {},
   "outputs": [
    {
     "name": "stderr",
     "output_type": "stream",
     "text": [
      "Device set to use cpu\n"
     ]
    },
    {
     "name": "stdout",
     "output_type": "stream",
     "text": [
      "Loading model...\n",
      "✅ Model loaded successfully!\n"
     ]
    }
   ],
   "source": [
    "# ESG Sentiment Analysis - Inference\n",
    "import torch\n",
    "from transformers import AutoModelForSequenceClassification, AutoTokenizer, pipeline\n",
    "\n",
    "# Load trained model\n",
    "model_path = \"./saved_models/esg_sentiment_distilbert\"\n",
    "print(\"Loading model...\")\n",
    "\n",
    "model = AutoModelForSequenceClassification.from_pretrained(model_path)\n",
    "tokenizer = AutoTokenizer.from_pretrained(model_path)\n",
    "\n",
    "# Create classifier pipeline\n",
    "classifier = pipeline(\n",
    "    \"text-classification\",\n",
    "    model=model,\n",
    "    tokenizer=tokenizer,\n",
    "    device=0 if torch.cuda.is_available() else -1\n",
    ")\n",
    "\n",
    "print(\"✅ Model loaded successfully!\")"
   ]
  },
  {
   "cell_type": "code",
   "execution_count": 11,
   "id": "15c60f16",
   "metadata": {},
   "outputs": [
    {
     "name": "stdout",
     "output_type": "stream",
     "text": [
      "Testing function:\n",
      "'Công ty đã đầu tư mạnh vào năng lượng tái tạo và g...' → neutral\n",
      "'Nhà máy xả thải gây ô nhiễm nghiêm trọng đến nguồn...' → neutral\n",
      "'Báo cáo bền vững năm nay sẽ được công bố vào tháng...' → neutral\n",
      "\n",
      "🎯 Function classify_sentiment() sẵn sàng sử dụng!\n"
     ]
    }
   ],
   "source": [
    "def classify_sentiment(text):\n",
    "    \"\"\"\n",
    "    Phân loại sentiment cho văn bản tiếng Việt\n",
    "    \n",
    "    Args:\n",
    "        text (str): Văn bản tiếng Việt\n",
    "        \n",
    "    Returns:\n",
    "        str: \"positive\", \"negative\", hoặc \"neutral\"\n",
    "    \"\"\"\n",
    "    result = classifier(text)\n",
    "    label = result[0]['label']\n",
    "    \n",
    "    if label in ['POSITIVE', 'POS']:\n",
    "        return \"positive\"\n",
    "    elif label in ['NEGATIVE', 'NEG']:\n",
    "        return \"negative\"\n",
    "    else:\n",
    "        return \"neutral\"\n",
    "\n",
    "# Test function\n",
    "print(\"Testing function:\")\n",
    "test_texts = [\n",
    "    \"Công ty đã đầu tư mạnh vào năng lượng tái tạo và giảm thiểu tác động môi trường\",\n",
    "    \"Nhà máy xả thải gây ô nhiễm nghiêm trọng đến nguồn nước địa phương\",\n",
    "    \"Báo cáo bền vững năm nay sẽ được công bố vào tháng 12\"\n",
    "]\n",
    "\n",
    "for text in test_texts:\n",
    "    sentiment = classify_sentiment(text)\n",
    "    print(f\"'{text[:50]}...' → {sentiment}\")\n",
    "\n",
    "print(\"\\n🎯 Function classify_sentiment() sẵn sàng sử dụng!\")"
   ]
  },
  {
   "cell_type": "code",
   "execution_count": null,
   "id": "3c704450",
   "metadata": {},
   "outputs": [],
   "source": [
    "# Debug: Check what labels the model actually returns\n",
    "print(\"🔍 Debugging model output:\")\n",
    "test_samples = [\n",
    "    \"Công ty đã đầu tư mạnh vào năng lượng tái tạo\",  # Should be positive\n",
    "    \"Nhà máy xả thải gây ô nhiễm nghiêm trọng\",       # Should be negative  \n",
    "    \"Báo cáo bền vững sẽ được công bố\"                # Should be neutral\n",
    "]\n",
    "\n",
    "for text in test_samples:\n",
    "    raw_result = classifier(text)\n",
    "    print(f\"Text: {text[:40]}...\")\n",
    "    print(f\"Raw output: {raw_result}\")\n",
    "    print(f\"Label: {raw_result[0]['label']}\")\n",
    "    print(f\"Score: {raw_result[0]['score']:.4f}\")\n",
    "    print(\"-\" * 50)\n",
    "\n",
    "# Fixed classification function\n",
    "def classify_sentiment(text):\n",
    "    \"\"\"\n",
    "    Phân loại sentiment cho văn bản tiếng Việt\n",
    "    \n",
    "    Args:\n",
    "        text (str): Văn bản tiếng Việt\n",
    "        \n",
    "    Returns:\n",
    "        str: \"positive\", \"negative\", hoặc \"neutral\"\n",
    "    \"\"\"\n",
    "    result = classifier(text)\n",
    "    label = result[0]['label']\n",
    "    \n",
    "    # Map từ labels thật của model\n",
    "    label_mapping = {\n",
    "        'LABEL_0': 'negative',\n",
    "        'LABEL_1': 'neutral', \n",
    "        'LABEL_2': 'positive',\n",
    "        'NEGATIVE': 'negative',\n",
    "        'NEUTRAL': 'neutral',\n",
    "        'POSITIVE': 'positive',\n",
    "        'NEG': 'negative',\n",
    "        'NEU': 'neutral',\n",
    "        'POS': 'positive'\n",
    "    }\n",
    "    \n",
    "    return label_mapping.get(label, 'neutral')\n",
    "\n",
    "print(\"\\n✅ Fixed function ready!\")\n",
    "print(\"Testing fixed function:\")\n",
    "for text in test_samples:\n",
    "    sentiment = classify_sentiment(text)\n",
    "    print(f\"'{text[:40]}...' → {sentiment}\")"
   ]
  }
 ],
 "metadata": {
  "kernelspec": {
   "display_name": "Python 3",
   "language": "python",
   "name": "python3"
  },
  "language_info": {
   "codemirror_mode": {
    "name": "ipython",
    "version": 3
   },
   "file_extension": ".py",
   "mimetype": "text/x-python",
   "name": "python",
   "nbconvert_exporter": "python",
   "pygments_lexer": "ipython3",
   "version": "3.12.3"
  }
 },
 "nbformat": 4,
 "nbformat_minor": 5
}
